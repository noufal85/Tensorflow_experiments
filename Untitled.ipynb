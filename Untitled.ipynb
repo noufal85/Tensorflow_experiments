{
 "cells": [
  {
   "cell_type": "code",
   "execution_count": 1,
   "metadata": {},
   "outputs": [
    {
     "name": "stderr",
     "output_type": "stream",
     "text": [
      "C:\\Users\\noufal\\Anaconda3\\lib\\site-packages\\h5py\\__init__.py:36: FutureWarning: Conversion of the second argument of issubdtype from `float` to `np.floating` is deprecated. In future, it will be treated as `np.float64 == np.dtype(float).type`.\n",
      "  from ._conv import register_converters as _register_converters\n"
     ]
    }
   ],
   "source": [
    "import tensorflow as tf"
   ]
  },
  {
   "cell_type": "code",
   "execution_count": 9,
   "metadata": {},
   "outputs": [],
   "source": [
    "def forward_pass(w,x):\n",
    "    return tf.matmul(w, x)"
   ]
  },
  {
   "cell_type": "code",
   "execution_count": 7,
   "metadata": {},
   "outputs": [],
   "source": [
    "def train_loop(x, niter=5):\n",
    "    with tf.variable_scope(\"model\", reuse=tf.AUTO_REUSE):\n",
    "        w = tf.get_variable(\"weights\",\n",
    "                           shape=(1,2), #1 x 2 matrix\n",
    "                           initializer=tf.truncated_normal_initializer(),\n",
    "                           trainable = True)\n",
    "    preds = []\n",
    "    for k in range(niter):\n",
    "        preds.append(forward_pass(w, x))\n",
    "        w = w+0.1 #gradient update\n",
    "    return preds\n",
    "                            "
   ]
  },
  {
   "cell_type": "code",
   "execution_count": 13,
   "metadata": {},
   "outputs": [
    {
     "name": "stdout",
     "output_type": "stream",
     "text": [
      "0:[[3.0224342 4.9132195 7.0030355]]\n",
      "1:[[3.7724345 6.0432196 8.553035 ]]\n",
      "2:[[ 4.522434  7.17322  10.103035]]\n",
      "3:[[ 5.272434  8.303219 11.653034]]\n",
      "4:[[ 6.022434  9.43322  13.203034]]\n"
     ]
    }
   ],
   "source": [
    "with tf.Session() as sess:\n",
    "    preds = train_loop(tf.constant([[3.2,5.1,7.2],[4.3,6.2,8.3]])) #2 x 3 matrix\n",
    "    tf.global_variables_initializer().run()\n",
    "    for i in range(len(preds)):\n",
    "        print(\"{}:{}\".format(i, pred[i].eval()))"
   ]
  },
  {
   "cell_type": "code",
   "execution_count": null,
   "metadata": {},
   "outputs": [],
   "source": []
  },
  {
   "cell_type": "code",
   "execution_count": null,
   "metadata": {},
   "outputs": [],
   "source": []
  },
  {
   "cell_type": "code",
   "execution_count": null,
   "metadata": {},
   "outputs": [],
   "source": []
  }
 ],
 "metadata": {
  "kernelspec": {
   "display_name": "Python 3",
   "language": "python",
   "name": "python3"
  },
  "language_info": {
   "codemirror_mode": {
    "name": "ipython",
    "version": 3
   },
   "file_extension": ".py",
   "mimetype": "text/x-python",
   "name": "python",
   "nbconvert_exporter": "python",
   "pygments_lexer": "ipython3",
   "version": "3.6.4"
  }
 },
 "nbformat": 4,
 "nbformat_minor": 2
}
